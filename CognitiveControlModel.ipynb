{
 "cells": [
  {
   "cell_type": "code",
   "execution_count": 13,
   "id": "d3955f53-20ca-4164-a094-3c84bb035e7c",
   "metadata": {},
   "outputs": [],
   "source": [
    "%reset -f\n",
    "import statistics\n",
    "import copy\n",
    "import pandas as pd\n",
    "import plotly.express as px"
   ]
  },
  {
   "cell_type": "markdown",
   "id": "386b5efb",
   "metadata": {},
   "source": [
    "# The Model"
   ]
  },
  {
   "cell_type": "code",
   "execution_count": 14,
   "id": "cf133f06",
   "metadata": {},
   "outputs": [],
   "source": [
    "DecayRate = 0.01 # The number of activation units lost every iteration (from each node)\n",
    "ActivationStrength = 0.01 # The relation between unit activation and the activation it exerts through excitatory connections\n",
    "InhibitionStrength = 0.01 # The relation between unit activation and the inhibition it exerts through inhibitory connections\n",
    "BiasingMult = 1 # ...\n",
    "\n",
    "max_iter = 10000 # Maximum number of iterations (per trial)\n",
    "ActivationThreshold = 100 # Threshold activation level for a lower-level unit to be cosidered the final interpratation\n",
    "\n",
    "CogCtrl=None\n",
    "LingKnow=None\n",
    "Stroop=None\n",
    "\n",
    "class CognitiveControl(object):\n",
    "    def __init__(self):\n",
    "        self.ConflictMonitoring = 0\n",
    "        self.Biasing = 0\n",
    " \n",
    "    def Update(self,LingKnow,Stoop):\n",
    "        # increase CM activity based on the relative ratio between SubjIsAgent & SubjIsTheme\n",
    "        self.ConflictMonitoring += ActivationStrength*(abs(LingKnow.SubjIsAgent-LingKnow.SubjIsTheme)/(statistics.mean([LingKnow.SubjIsAgent,LingKnow.SubjIsTheme])+0.000001))\n",
    "        # increase CM activity based on the relative ratio between Blue & Red\n",
    "        self.ConflictMonitoring += ActivationStrength*(abs(Stroop.Blue-Stroop.Red)/(statistics.mean([Stroop.Blue,Stroop.Red])+0.000001))\n",
    "        # increase B activation based on CM activation\n",
    "        self.Biasing += ActivationStrength*self.ConflictMonitoring       \n",
    "        # decay\n",
    "        self.ConflictMonitoring -= DecayRate\n",
    "        self.Biasing -= DecayRate      \n",
    "        # prevent negative activation values\n",
    "        if self.ConflictMonitoring < 0:\n",
    "            self.ConflictMonitoring = 0\n",
    "        if self.Biasing < 0:\n",
    "            self.Biasing = 0\n",
    "\n",
    "            \n",
    "class LinguisticKnowledge(object):\n",
    "    def __init__(self, WorldAct=0, MorphSyntAct=0):\n",
    "        # Higher-Level\n",
    "        self.WorldKnowledge = WorldAct\n",
    "        self.MorphoSyntacticKnowledge = MorphSyntAct\n",
    "        # Lower-Level\n",
    "        self.SubjIsAgent = 0\n",
    "        self.SubjIsTheme = 0\n",
    "        \n",
    "    def InputAct(self,WK,MSK):\n",
    "        self.WorldKnowledge += WK\n",
    "        self.MorphoSyntacticKnowledge += MSK\n",
    "\n",
    "    def Update(self,CogCtrl,Stoop):        \n",
    "        # save initial activations for calculations (to make sure all updating happens \"at once\")\n",
    "        WorldKnowledgeInitialAct = self.WorldKnowledge\n",
    "        MorphoSyntacticKnowledgeInitialAct = self.MorphoSyntacticKnowledge\n",
    "        SubjIsAgentInitialAct = self.SubjIsAgent\n",
    "        SubjIsThemeInitialAct = self.SubjIsTheme\n",
    "\n",
    "        # increase WK & MSK activity based on CogCtrl.Biasing\n",
    "        self.WorldKnowledge += (CogCtrl.Biasing*BiasingMult)\n",
    "        self.MorphoSyntacticKnowledge += (CogCtrl.Biasing*BiasingMult)        \n",
    "        \n",
    "        # increase SubjIsAgent & SubjIsTheme based on WK & MSK\n",
    "        self.SubjIsAgent += (MorphoSyntacticKnowledgeInitialAct*ActivationStrength) # SubjIsAgent is supported by WK\n",
    "        self.SubjIsTheme += (WorldKnowledgeInitialAct*ActivationStrength) # SubjIsTheme is supported by MSK\n",
    "        \n",
    "        # lateral inhibition between SubjIsAgent & SubjIsTheme\n",
    "        self.SubjIsAgent -= (SubjIsAgentInitialAct*InhibitionStrength)\n",
    "        self.SubjIsTheme -= (SubjIsAgentInitialAct*InhibitionStrength)\n",
    "        \n",
    "        # decay\n",
    "        self.WorldKnowledge -= DecayRate\n",
    "        self.MorphoSyntacticKnowledge -= DecayRate\n",
    "        self.SubjIsAgent -= DecayRate\n",
    "        self.SubjIsTheme -= DecayRate\n",
    "        # prevent negative activation values\n",
    "        if self.WorldKnowledge < 0 :\n",
    "            self.WorldKnowledge = 0\n",
    "        if self.MorphoSyntacticKnowledge <0:\n",
    "            self.MorphoSyntacticKnowledge = 0\n",
    "        if self.SubjIsAgent < 0:\n",
    "            self.SubjIsAgent = 0\n",
    "        if self.SubjIsTheme < 0:\n",
    "            self.SubjIsTheme = 0\n",
    "\n",
    "        \n",
    "class StroopTaskRepresentation(object):\n",
    "    def __init__(self, TextAct=0, FontColAct=0):\n",
    "        # Higher-Level\n",
    "        self.Text = TextAct\n",
    "        self.FontColor = FontColAct\n",
    "        # Lower-Level\n",
    "        self.Blue = 0\n",
    "        self.Red = 0\n",
    "            \n",
    "    def InputAct(self,Text,FontColor):\n",
    "        self.Text += Text\n",
    "        self.FontColor += FontColor\n",
    "        \n",
    "\n",
    "    def Update(self,CogCtrl,LingKnow):\n",
    "        # save initial activations for calculations (to make sure all updating happens \"at once\")\n",
    "        TextInitialAct = self.Text\n",
    "        FontColorInitialAct = self.FontColor\n",
    "        BlueInitialAct = self.Blue\n",
    "        RedInitialAct = self.Red\n",
    "        \n",
    "        # increase Text & FontColor activity based on CogCtrl.Biasing\n",
    "        self.Text += (CogCtrl.Biasing*BiasingMult)\n",
    "        self.FontColor += (CogCtrl.Biasing*BiasingMult)\n",
    "\n",
    "        # increase Blue & Red based activity based on Text & FontColor\n",
    "        self.Blue += (FontColorInitialAct*ActivationStrength) # Blue is supported by FontColor\n",
    "        self.Red += (TextInitialAct*ActivationStrength) # Red is supported by Text\n",
    "\n",
    "        # lateral inhibition between Blue & Red\n",
    "        self.Blue -= (RedInitialAct*InhibitionStrength)\n",
    "        self.Red -= (BlueInitialAct*InhibitionStrength)\n",
    "        \n",
    "        # decay\n",
    "        self.Text -= DecayRate\n",
    "        self.FontColor -= DecayRate\n",
    "        self.Blue -= DecayRate\n",
    "        self.Red -= DecayRate\n",
    "        # prevent negative activation values\n",
    "        if self.Text < 0:\n",
    "            self.Text = 0\n",
    "        if self.FontColor <0:\n",
    "            self.FontColor = 0\n",
    "        if self.Blue < 0:\n",
    "            self.Blue = 0\n",
    "        if self.Red < 0:\n",
    "            self.Red = 0\n",
    "\n",
    "        \n",
    "\n",
    "def UpdateAll(CogCtrl,LingKnow,Stroop):    \n",
    "    CogCtrl_prev = copy.copy(CogCtrl)\n",
    "    LingKnow_prev = copy.copy(LingKnow)\n",
    "    Stroop_prev = copy.copy(Stroop)\n",
    "\n",
    "    CogCtrl.Update(LingKnow_prev,Stroop_prev)\n",
    "    LingKnow.Update(CogCtrl_prev,Stroop_prev)\n",
    "    Stroop.Update(CogCtrl_prev,LingKnow_prev)\n",
    "    return [CogCtrl, LingKnow, Stroop]\n",
    "\n",
    "\n",
    "def RunTrial(InputAct:tuple,CC=None,LK=None,S=None):\n",
    "    '''\n",
    "    InputAct specifies the input activations for WK,MSK,Text,FontColor (in that order).\n",
    "    '''\n",
    "    i = 1\n",
    "\n",
    "    global CogCtrl\n",
    "    global LingKnow\n",
    "    global Stroop\n",
    "\n",
    "    if CC == None:\n",
    "        CogCtrl = CognitiveControl()\n",
    "    else:\n",
    "        CogCtrl = CC\n",
    "        \n",
    "    if LK == None:\n",
    "        LingKnow = LinguisticKnowledge()\n",
    "    else:\n",
    "        LingKnow = LK\n",
    "        \n",
    "    if S == None:\n",
    "        Stroop = StroopTaskRepresentation()\n",
    "    else:\n",
    "        Stroop = S\n",
    "        \n",
    "\n",
    "    LingKnow.InputAct(InputAct[0],InputAct[1])\n",
    "    Stroop.InputAct(InputAct[2],InputAct[3])\n",
    "\n",
    "    while i <= max_iter:\n",
    "        UpdateAll(CogCtrl,LingKnow,Stroop)\n",
    "        i += 1\n",
    "        MaxAct = max(LingKnow.SubjIsAgent,LingKnow.SubjIsTheme,Stroop.Blue,Stroop.Red)\n",
    "        if MaxAct > ActivationThreshold:\n",
    "            break\n",
    "    \n",
    "    # determine the final interpratation\n",
    "    if [LingKnow.SubjIsAgent,LingKnow.SubjIsTheme,Stroop.Blue,Stroop.Red].count(MaxAct) > 1:\n",
    "        Winner = None\n",
    "    if LingKnow.SubjIsAgent == MaxAct:\n",
    "        Winner = 'SubjIsAgent'\n",
    "    if LingKnow.SubjIsTheme == MaxAct:\n",
    "        Winner = 'SubjIsTheme'\n",
    "    if Stroop.Blue == MaxAct:\n",
    "        Winner = 'Blue'\n",
    "    if Stroop.Red == MaxAct:\n",
    "        Winner = 'Red'\n",
    "    \n",
    "    return i, Winner, CogCtrl, LingKnow, Stroop\n",
    "\n",
    "\n",
    "def RunTrialSequence(Trials:\"list of tuples\"):\n",
    "    '''\n",
    "    Trials is a list of tuples.\n",
    "    Each tuple consists of 4 values that are the input activations of WK,MSK,Text,FontColor (in that order) in a specific trial.\n",
    "    '''\n",
    "    CogCtrl = CognitiveControl()\n",
    "    LingKnow = LinguisticKnowledge()\n",
    "    Stroop = StroopTaskRepresentation()\n",
    "    \n",
    "    Results = []\n",
    "    for Trial in Trials:\n",
    "        i, Winner, CogCtrl, LingKnow, Stroop = RunTrial(Trial,CogCtrl,LingKnow,Stroop)\n",
    "        Results.append([i,Winner])\n",
    "        \n",
    "    return Results"
   ]
  },
  {
   "cell_type": "markdown",
   "id": "c1d90c07",
   "metadata": {},
   "source": [
    "# Cognitive control makes conflict resolution faster\n",
    "\n",
    "## In Stroop"
   ]
  },
  {
   "cell_type": "code",
   "execution_count": 15,
   "id": "f3ccf0f9",
   "metadata": {},
   "outputs": [
    {
     "name": "stdout",
     "output_type": "stream",
     "text": [
      "173 Blue\n",
      "172 Blue\n",
      "398 Blue\n",
      "354 Blue\n"
     ]
    },
    {
     "data": {
      "application/vnd.plotly.v1+json": {
       "config": {
        "plotlyServerURL": "https://plot.ly"
       },
       "data": [
        {
         "alignmentgroup": "True",
         "hovertemplate": "CC=Without CC<br>Trial=%{x}<br>RT=%{y}<extra></extra>",
         "legendgroup": "Without CC",
         "marker": {
          "color": "#636efa",
          "pattern": {
           "shape": ""
          }
         },
         "name": "Without CC",
         "offsetgroup": "Without CC",
         "orientation": "v",
         "showlegend": true,
         "textposition": "auto",
         "type": "bar",
         "x": [
          "Congruent",
          "Incongruent"
         ],
         "xaxis": "x",
         "y": [
          173,
          398
         ],
         "yaxis": "y"
        },
        {
         "alignmentgroup": "True",
         "hovertemplate": "CC=With CC<br>Trial=%{x}<br>RT=%{y}<extra></extra>",
         "legendgroup": "With CC",
         "marker": {
          "color": "#EF553B",
          "pattern": {
           "shape": ""
          }
         },
         "name": "With CC",
         "offsetgroup": "With CC",
         "orientation": "v",
         "showlegend": true,
         "textposition": "auto",
         "type": "bar",
         "x": [
          "Congruent",
          "Incongruent"
         ],
         "xaxis": "x",
         "y": [
          172,
          354
         ],
         "yaxis": "y"
        }
       ],
       "layout": {
        "autosize": true,
        "barmode": "group",
        "legend": {
         "title": {
          "text": "CC"
         },
         "tracegroupgap": 0
        },
        "margin": {
         "t": 60
        },
        "template": {
         "data": {
          "bar": [
           {
            "error_x": {
             "color": "#2a3f5f"
            },
            "error_y": {
             "color": "#2a3f5f"
            },
            "marker": {
             "line": {
              "color": "#E5ECF6",
              "width": 0.5
             },
             "pattern": {
              "fillmode": "overlay",
              "size": 10,
              "solidity": 0.2
             }
            },
            "type": "bar"
           }
          ],
          "barpolar": [
           {
            "marker": {
             "line": {
              "color": "#E5ECF6",
              "width": 0.5
             },
             "pattern": {
              "fillmode": "overlay",
              "size": 10,
              "solidity": 0.2
             }
            },
            "type": "barpolar"
           }
          ],
          "carpet": [
           {
            "aaxis": {
             "endlinecolor": "#2a3f5f",
             "gridcolor": "white",
             "linecolor": "white",
             "minorgridcolor": "white",
             "startlinecolor": "#2a3f5f"
            },
            "baxis": {
             "endlinecolor": "#2a3f5f",
             "gridcolor": "white",
             "linecolor": "white",
             "minorgridcolor": "white",
             "startlinecolor": "#2a3f5f"
            },
            "type": "carpet"
           }
          ],
          "choropleth": [
           {
            "colorbar": {
             "outlinewidth": 0,
             "ticks": ""
            },
            "type": "choropleth"
           }
          ],
          "contour": [
           {
            "colorbar": {
             "outlinewidth": 0,
             "ticks": ""
            },
            "colorscale": [
             [
              0,
              "#0d0887"
             ],
             [
              0.1111111111111111,
              "#46039f"
             ],
             [
              0.2222222222222222,
              "#7201a8"
             ],
             [
              0.3333333333333333,
              "#9c179e"
             ],
             [
              0.4444444444444444,
              "#bd3786"
             ],
             [
              0.5555555555555556,
              "#d8576b"
             ],
             [
              0.6666666666666666,
              "#ed7953"
             ],
             [
              0.7777777777777778,
              "#fb9f3a"
             ],
             [
              0.8888888888888888,
              "#fdca26"
             ],
             [
              1,
              "#f0f921"
             ]
            ],
            "type": "contour"
           }
          ],
          "contourcarpet": [
           {
            "colorbar": {
             "outlinewidth": 0,
             "ticks": ""
            },
            "type": "contourcarpet"
           }
          ],
          "heatmap": [
           {
            "colorbar": {
             "outlinewidth": 0,
             "ticks": ""
            },
            "colorscale": [
             [
              0,
              "#0d0887"
             ],
             [
              0.1111111111111111,
              "#46039f"
             ],
             [
              0.2222222222222222,
              "#7201a8"
             ],
             [
              0.3333333333333333,
              "#9c179e"
             ],
             [
              0.4444444444444444,
              "#bd3786"
             ],
             [
              0.5555555555555556,
              "#d8576b"
             ],
             [
              0.6666666666666666,
              "#ed7953"
             ],
             [
              0.7777777777777778,
              "#fb9f3a"
             ],
             [
              0.8888888888888888,
              "#fdca26"
             ],
             [
              1,
              "#f0f921"
             ]
            ],
            "type": "heatmap"
           }
          ],
          "heatmapgl": [
           {
            "colorbar": {
             "outlinewidth": 0,
             "ticks": ""
            },
            "colorscale": [
             [
              0,
              "#0d0887"
             ],
             [
              0.1111111111111111,
              "#46039f"
             ],
             [
              0.2222222222222222,
              "#7201a8"
             ],
             [
              0.3333333333333333,
              "#9c179e"
             ],
             [
              0.4444444444444444,
              "#bd3786"
             ],
             [
              0.5555555555555556,
              "#d8576b"
             ],
             [
              0.6666666666666666,
              "#ed7953"
             ],
             [
              0.7777777777777778,
              "#fb9f3a"
             ],
             [
              0.8888888888888888,
              "#fdca26"
             ],
             [
              1,
              "#f0f921"
             ]
            ],
            "type": "heatmapgl"
           }
          ],
          "histogram": [
           {
            "marker": {
             "pattern": {
              "fillmode": "overlay",
              "size": 10,
              "solidity": 0.2
             }
            },
            "type": "histogram"
           }
          ],
          "histogram2d": [
           {
            "colorbar": {
             "outlinewidth": 0,
             "ticks": ""
            },
            "colorscale": [
             [
              0,
              "#0d0887"
             ],
             [
              0.1111111111111111,
              "#46039f"
             ],
             [
              0.2222222222222222,
              "#7201a8"
             ],
             [
              0.3333333333333333,
              "#9c179e"
             ],
             [
              0.4444444444444444,
              "#bd3786"
             ],
             [
              0.5555555555555556,
              "#d8576b"
             ],
             [
              0.6666666666666666,
              "#ed7953"
             ],
             [
              0.7777777777777778,
              "#fb9f3a"
             ],
             [
              0.8888888888888888,
              "#fdca26"
             ],
             [
              1,
              "#f0f921"
             ]
            ],
            "type": "histogram2d"
           }
          ],
          "histogram2dcontour": [
           {
            "colorbar": {
             "outlinewidth": 0,
             "ticks": ""
            },
            "colorscale": [
             [
              0,
              "#0d0887"
             ],
             [
              0.1111111111111111,
              "#46039f"
             ],
             [
              0.2222222222222222,
              "#7201a8"
             ],
             [
              0.3333333333333333,
              "#9c179e"
             ],
             [
              0.4444444444444444,
              "#bd3786"
             ],
             [
              0.5555555555555556,
              "#d8576b"
             ],
             [
              0.6666666666666666,
              "#ed7953"
             ],
             [
              0.7777777777777778,
              "#fb9f3a"
             ],
             [
              0.8888888888888888,
              "#fdca26"
             ],
             [
              1,
              "#f0f921"
             ]
            ],
            "type": "histogram2dcontour"
           }
          ],
          "mesh3d": [
           {
            "colorbar": {
             "outlinewidth": 0,
             "ticks": ""
            },
            "type": "mesh3d"
           }
          ],
          "parcoords": [
           {
            "line": {
             "colorbar": {
              "outlinewidth": 0,
              "ticks": ""
             }
            },
            "type": "parcoords"
           }
          ],
          "pie": [
           {
            "automargin": true,
            "type": "pie"
           }
          ],
          "scatter": [
           {
            "marker": {
             "colorbar": {
              "outlinewidth": 0,
              "ticks": ""
             }
            },
            "type": "scatter"
           }
          ],
          "scatter3d": [
           {
            "line": {
             "colorbar": {
              "outlinewidth": 0,
              "ticks": ""
             }
            },
            "marker": {
             "colorbar": {
              "outlinewidth": 0,
              "ticks": ""
             }
            },
            "type": "scatter3d"
           }
          ],
          "scattercarpet": [
           {
            "marker": {
             "colorbar": {
              "outlinewidth": 0,
              "ticks": ""
             }
            },
            "type": "scattercarpet"
           }
          ],
          "scattergeo": [
           {
            "marker": {
             "colorbar": {
              "outlinewidth": 0,
              "ticks": ""
             }
            },
            "type": "scattergeo"
           }
          ],
          "scattergl": [
           {
            "marker": {
             "colorbar": {
              "outlinewidth": 0,
              "ticks": ""
             }
            },
            "type": "scattergl"
           }
          ],
          "scattermapbox": [
           {
            "marker": {
             "colorbar": {
              "outlinewidth": 0,
              "ticks": ""
             }
            },
            "type": "scattermapbox"
           }
          ],
          "scatterpolar": [
           {
            "marker": {
             "colorbar": {
              "outlinewidth": 0,
              "ticks": ""
             }
            },
            "type": "scatterpolar"
           }
          ],
          "scatterpolargl": [
           {
            "marker": {
             "colorbar": {
              "outlinewidth": 0,
              "ticks": ""
             }
            },
            "type": "scatterpolargl"
           }
          ],
          "scatterternary": [
           {
            "marker": {
             "colorbar": {
              "outlinewidth": 0,
              "ticks": ""
             }
            },
            "type": "scatterternary"
           }
          ],
          "surface": [
           {
            "colorbar": {
             "outlinewidth": 0,
             "ticks": ""
            },
            "colorscale": [
             [
              0,
              "#0d0887"
             ],
             [
              0.1111111111111111,
              "#46039f"
             ],
             [
              0.2222222222222222,
              "#7201a8"
             ],
             [
              0.3333333333333333,
              "#9c179e"
             ],
             [
              0.4444444444444444,
              "#bd3786"
             ],
             [
              0.5555555555555556,
              "#d8576b"
             ],
             [
              0.6666666666666666,
              "#ed7953"
             ],
             [
              0.7777777777777778,
              "#fb9f3a"
             ],
             [
              0.8888888888888888,
              "#fdca26"
             ],
             [
              1,
              "#f0f921"
             ]
            ],
            "type": "surface"
           }
          ],
          "table": [
           {
            "cells": {
             "fill": {
              "color": "#EBF0F8"
             },
             "line": {
              "color": "white"
             }
            },
            "header": {
             "fill": {
              "color": "#C8D4E3"
             },
             "line": {
              "color": "white"
             }
            },
            "type": "table"
           }
          ]
         },
         "layout": {
          "annotationdefaults": {
           "arrowcolor": "#2a3f5f",
           "arrowhead": 0,
           "arrowwidth": 1
          },
          "autotypenumbers": "strict",
          "coloraxis": {
           "colorbar": {
            "outlinewidth": 0,
            "ticks": ""
           }
          },
          "colorscale": {
           "diverging": [
            [
             0,
             "#8e0152"
            ],
            [
             0.1,
             "#c51b7d"
            ],
            [
             0.2,
             "#de77ae"
            ],
            [
             0.3,
             "#f1b6da"
            ],
            [
             0.4,
             "#fde0ef"
            ],
            [
             0.5,
             "#f7f7f7"
            ],
            [
             0.6,
             "#e6f5d0"
            ],
            [
             0.7,
             "#b8e186"
            ],
            [
             0.8,
             "#7fbc41"
            ],
            [
             0.9,
             "#4d9221"
            ],
            [
             1,
             "#276419"
            ]
           ],
           "sequential": [
            [
             0,
             "#0d0887"
            ],
            [
             0.1111111111111111,
             "#46039f"
            ],
            [
             0.2222222222222222,
             "#7201a8"
            ],
            [
             0.3333333333333333,
             "#9c179e"
            ],
            [
             0.4444444444444444,
             "#bd3786"
            ],
            [
             0.5555555555555556,
             "#d8576b"
            ],
            [
             0.6666666666666666,
             "#ed7953"
            ],
            [
             0.7777777777777778,
             "#fb9f3a"
            ],
            [
             0.8888888888888888,
             "#fdca26"
            ],
            [
             1,
             "#f0f921"
            ]
           ],
           "sequentialminus": [
            [
             0,
             "#0d0887"
            ],
            [
             0.1111111111111111,
             "#46039f"
            ],
            [
             0.2222222222222222,
             "#7201a8"
            ],
            [
             0.3333333333333333,
             "#9c179e"
            ],
            [
             0.4444444444444444,
             "#bd3786"
            ],
            [
             0.5555555555555556,
             "#d8576b"
            ],
            [
             0.6666666666666666,
             "#ed7953"
            ],
            [
             0.7777777777777778,
             "#fb9f3a"
            ],
            [
             0.8888888888888888,
             "#fdca26"
            ],
            [
             1,
             "#f0f921"
            ]
           ]
          },
          "colorway": [
           "#636efa",
           "#EF553B",
           "#00cc96",
           "#ab63fa",
           "#FFA15A",
           "#19d3f3",
           "#FF6692",
           "#B6E880",
           "#FF97FF",
           "#FECB52"
          ],
          "font": {
           "color": "#2a3f5f"
          },
          "geo": {
           "bgcolor": "white",
           "lakecolor": "white",
           "landcolor": "#E5ECF6",
           "showlakes": true,
           "showland": true,
           "subunitcolor": "white"
          },
          "hoverlabel": {
           "align": "left"
          },
          "hovermode": "closest",
          "mapbox": {
           "style": "light"
          },
          "paper_bgcolor": "white",
          "plot_bgcolor": "#E5ECF6",
          "polar": {
           "angularaxis": {
            "gridcolor": "white",
            "linecolor": "white",
            "ticks": ""
           },
           "bgcolor": "#E5ECF6",
           "radialaxis": {
            "gridcolor": "white",
            "linecolor": "white",
            "ticks": ""
           }
          },
          "scene": {
           "xaxis": {
            "backgroundcolor": "#E5ECF6",
            "gridcolor": "white",
            "gridwidth": 2,
            "linecolor": "white",
            "showbackground": true,
            "ticks": "",
            "zerolinecolor": "white"
           },
           "yaxis": {
            "backgroundcolor": "#E5ECF6",
            "gridcolor": "white",
            "gridwidth": 2,
            "linecolor": "white",
            "showbackground": true,
            "ticks": "",
            "zerolinecolor": "white"
           },
           "zaxis": {
            "backgroundcolor": "#E5ECF6",
            "gridcolor": "white",
            "gridwidth": 2,
            "linecolor": "white",
            "showbackground": true,
            "ticks": "",
            "zerolinecolor": "white"
           }
          },
          "shapedefaults": {
           "line": {
            "color": "#2a3f5f"
           }
          },
          "ternary": {
           "aaxis": {
            "gridcolor": "white",
            "linecolor": "white",
            "ticks": ""
           },
           "baxis": {
            "gridcolor": "white",
            "linecolor": "white",
            "ticks": ""
           },
           "bgcolor": "#E5ECF6",
           "caxis": {
            "gridcolor": "white",
            "linecolor": "white",
            "ticks": ""
           }
          },
          "title": {
           "x": 0.05
          },
          "xaxis": {
           "automargin": true,
           "gridcolor": "white",
           "linecolor": "white",
           "ticks": "",
           "title": {
            "standoff": 15
           },
           "zerolinecolor": "white",
           "zerolinewidth": 2
          },
          "yaxis": {
           "automargin": true,
           "gridcolor": "white",
           "linecolor": "white",
           "ticks": "",
           "title": {
            "standoff": 15
           },
           "zerolinecolor": "white",
           "zerolinewidth": 2
          }
         }
        },
        "xaxis": {
         "anchor": "y",
         "autorange": true,
         "domain": [
          0,
          1
         ],
         "range": [
          -0.5,
          1.5
         ],
         "title": {
          "text": "Trial"
         },
         "type": "category"
        },
        "yaxis": {
         "anchor": "x",
         "autorange": true,
         "domain": [
          0,
          1
         ],
         "range": [
          0,
          418.9473684210526
         ],
         "title": {
          "text": "RT"
         },
         "type": "linear"
        }
       }
      },
      "image/png": "[encoded data removed]",
      "text/html": [
       "<div>                            <div id=\"a14423d3-a3a3-4f50-b68b-5010485af740\" class=\"plotly-graph-div\" style=\"height:525px; width:100%;\"></div>            <script type=\"text/javascript\">                require([\"plotly\"], function(Plotly) {                    window.PLOTLYENV=window.PLOTLYENV || {};                                    if (document.getElementById(\"a14423d3-a3a3-4f50-b68b-5010485af740\")) {                    Plotly.newPlot(                        \"a14423d3-a3a3-4f50-b68b-5010485af740\",                        [{\"alignmentgroup\":\"True\",\"hovertemplate\":\"CC=Without CC<br>Trial=%{x}<br>RT=%{y}<extra></extra>\",\"legendgroup\":\"Without CC\",\"marker\":{\"color\":\"#636efa\",\"pattern\":{\"shape\":\"\"}},\"name\":\"Without CC\",\"offsetgroup\":\"Without CC\",\"orientation\":\"v\",\"showlegend\":true,\"textposition\":\"auto\",\"x\":[\"Congruent\",\"Incongruent\"],\"xaxis\":\"x\",\"y\":[173,398],\"yaxis\":\"y\",\"type\":\"bar\"},{\"alignmentgroup\":\"True\",\"hovertemplate\":\"CC=With CC<br>Trial=%{x}<br>RT=%{y}<extra></extra>\",\"legendgroup\":\"With CC\",\"marker\":{\"color\":\"#EF553B\",\"pattern\":{\"shape\":\"\"}},\"name\":\"With CC\",\"offsetgroup\":\"With CC\",\"orientation\":\"v\",\"showlegend\":true,\"textposition\":\"auto\",\"x\":[\"Congruent\",\"Incongruent\"],\"xaxis\":\"x\",\"y\":[172,354],\"yaxis\":\"y\",\"type\":\"bar\"}],                        {\"template\":{\"data\":{\"bar\":[{\"error_x\":{\"color\":\"#2a3f5f\"},\"error_y\":{\"color\":\"#2a3f5f\"},\"marker\":{\"line\":{\"color\":\"#E5ECF6\",\"width\":0.5},\"pattern\":{\"fillmode\":\"overlay\",\"size\":10,\"solidity\":0.2}},\"type\":\"bar\"}],\"barpolar\":[{\"marker\":{\"line\":{\"color\":\"#E5ECF6\",\"width\":0.5},\"pattern\":{\"fillmode\":\"overlay\",\"size\":10,\"solidity\":0.2}},\"type\":\"barpolar\"}],\"carpet\":[{\"aaxis\":{\"endlinecolor\":\"#2a3f5f\",\"gridcolor\":\"white\",\"linecolor\":\"white\",\"minorgridcolor\":\"white\",\"startlinecolor\":\"#2a3f5f\"},\"baxis\":{\"endlinecolor\":\"#2a3f5f\",\"gridcolor\":\"white\",\"linecolor\":\"white\",\"minorgridcolor\":\"white\",\"startlinecolor\":\"#2a3f5f\"},\"type\":\"carpet\"}],\"choropleth\":[{\"colorbar\":{\"outlinewidth\":0,\"ticks\":\"\"},\"type\":\"choropleth\"}],\"contour\":[{\"colorbar\":{\"outlinewidth\":0,\"ticks\":\"\"},\"colorscale\":[[0.0,\"#0d0887\"],[0.1111111111111111,\"#46039f\"],[0.2222222222222222,\"#7201a8\"],[0.3333333333333333,\"#9c179e\"],[0.4444444444444444,\"#bd3786\"],[0.5555555555555556,\"#d8576b\"],[0.6666666666666666,\"#ed7953\"],[0.7777777777777778,\"#fb9f3a\"],[0.8888888888888888,\"#fdca26\"],[1.0,\"#f0f921\"]],\"type\":\"contour\"}],\"contourcarpet\":[{\"colorbar\":{\"outlinewidth\":0,\"ticks\":\"\"},\"type\":\"contourcarpet\"}],\"heatmap\":[{\"colorbar\":{\"outlinewidth\":0,\"ticks\":\"\"},\"colorscale\":[[0.0,\"#0d0887\"],[0.1111111111111111,\"#46039f\"],[0.2222222222222222,\"#7201a8\"],[0.3333333333333333,\"#9c179e\"],[0.4444444444444444,\"#bd3786\"],[0.5555555555555556,\"#d8576b\"],[0.6666666666666666,\"#ed7953\"],[0.7777777777777778,\"#fb9f3a\"],[0.8888888888888888,\"#fdca26\"],[1.0,\"#f0f921\"]],\"type\":\"heatmap\"}],\"heatmapgl\":[{\"colorbar\":{\"outlinewidth\":0,\"ticks\":\"\"},\"colorscale\":[[0.0,\"#0d0887\"],[0.1111111111111111,\"#46039f\"],[0.2222222222222222,\"#7201a8\"],[0.3333333333333333,\"#9c179e\"],[0.4444444444444444,\"#bd3786\"],[0.5555555555555556,\"#d8576b\"],[0.6666666666666666,\"#ed7953\"],[0.7777777777777778,\"#fb9f3a\"],[0.8888888888888888,\"#fdca26\"],[1.0,\"#f0f921\"]],\"type\":\"heatmapgl\"}],\"histogram\":[{\"marker\":{\"pattern\":{\"fillmode\":\"overlay\",\"size\":10,\"solidity\":0.2}},\"type\":\"histogram\"}],\"histogram2d\":[{\"colorbar\":{\"outlinewidth\":0,\"ticks\":\"\"},\"colorscale\":[[0.0,\"#0d0887\"],[0.1111111111111111,\"#46039f\"],[0.2222222222222222,\"#7201a8\"],[0.3333333333333333,\"#9c179e\"],[0.4444444444444444,\"#bd3786\"],[0.5555555555555556,\"#d8576b\"],[0.6666666666666666,\"#ed7953\"],[0.7777777777777778,\"#fb9f3a\"],[0.8888888888888888,\"#fdca26\"],[1.0,\"#f0f921\"]],\"type\":\"histogram2d\"}],\"histogram2dcontour\":[{\"colorbar\":{\"outlinewidth\":0,\"ticks\":\"\"},\"colorscale\":[[0.0,\"#0d0887\"],[0.1111111111111111,\"#46039f\"],[0.2222222222222222,\"#7201a8\"],[0.3333333333333333,\"#9c179e\"],[0.4444444444444444,\"#bd3786\"],[0.5555555555555556,\"#d8576b\"],[0.6666666666666666,\"#ed7953\"],[0.7777777777777778,\"#fb9f3a\"],[0.8888888888888888,\"#fdca26\"],[1.0,\"#f0f921\"]],\"type\":\"histogram2dcontour\"}],\"mesh3d\":[{\"colorbar\":{\"outlinewidth\":0,\"ticks\":\"\"},\"type\":\"mesh3d\"}],\"parcoords\":[{\"line\":{\"colorbar\":{\"outlinewidth\":0,\"ticks\":\"\"}},\"type\":\"parcoords\"}],\"pie\":[{\"automargin\":true,\"type\":\"pie\"}],\"scatter\":[{\"marker\":{\"colorbar\":{\"outlinewidth\":0,\"ticks\":\"\"}},\"type\":\"scatter\"}],\"scatter3d\":[{\"line\":{\"colorbar\":{\"outlinewidth\":0,\"ticks\":\"\"}},\"marker\":{\"colorbar\":{\"outlinewidth\":0,\"ticks\":\"\"}},\"type\":\"scatter3d\"}],\"scattercarpet\":[{\"marker\":{\"colorbar\":{\"outlinewidth\":0,\"ticks\":\"\"}},\"type\":\"scattercarpet\"}],\"scattergeo\":[{\"marker\":{\"colorbar\":{\"outlinewidth\":0,\"ticks\":\"\"}},\"type\":\"scattergeo\"}],\"scattergl\":[{\"marker\":{\"colorbar\":{\"outlinewidth\":0,\"ticks\":\"\"}},\"type\":\"scattergl\"}],\"scattermapbox\":[{\"marker\":{\"colorbar\":{\"outlinewidth\":0,\"ticks\":\"\"}},\"type\":\"scattermapbox\"}],\"scatterpolar\":[{\"marker\":{\"colorbar\":{\"outlinewidth\":0,\"ticks\":\"\"}},\"type\":\"scatterpolar\"}],\"scatterpolargl\":[{\"marker\":{\"colorbar\":{\"outlinewidth\":0,\"ticks\":\"\"}},\"type\":\"scatterpolargl\"}],\"scatterternary\":[{\"marker\":{\"colorbar\":{\"outlinewidth\":0,\"ticks\":\"\"}},\"type\":\"scatterternary\"}],\"surface\":[{\"colorbar\":{\"outlinewidth\":0,\"ticks\":\"\"},\"colorscale\":[[0.0,\"#0d0887\"],[0.1111111111111111,\"#46039f\"],[0.2222222222222222,\"#7201a8\"],[0.3333333333333333,\"#9c179e\"],[0.4444444444444444,\"#bd3786\"],[0.5555555555555556,\"#d8576b\"],[0.6666666666666666,\"#ed7953\"],[0.7777777777777778,\"#fb9f3a\"],[0.8888888888888888,\"#fdca26\"],[1.0,\"#f0f921\"]],\"type\":\"surface\"}],\"table\":[{\"cells\":{\"fill\":{\"color\":\"#EBF0F8\"},\"line\":{\"color\":\"white\"}},\"header\":{\"fill\":{\"color\":\"#C8D4E3\"},\"line\":{\"color\":\"white\"}},\"type\":\"table\"}]},\"layout\":{\"annotationdefaults\":{\"arrowcolor\":\"#2a3f5f\",\"arrowhead\":0,\"arrowwidth\":1},\"autotypenumbers\":\"strict\",\"coloraxis\":{\"colorbar\":{\"outlinewidth\":0,\"ticks\":\"\"}},\"colorscale\":{\"diverging\":[[0,\"#8e0152\"],[0.1,\"#c51b7d\"],[0.2,\"#de77ae\"],[0.3,\"#f1b6da\"],[0.4,\"#fde0ef\"],[0.5,\"#f7f7f7\"],[0.6,\"#e6f5d0\"],[0.7,\"#b8e186\"],[0.8,\"#7fbc41\"],[0.9,\"#4d9221\"],[1,\"#276419\"]],\"sequential\":[[0.0,\"#0d0887\"],[0.1111111111111111,\"#46039f\"],[0.2222222222222222,\"#7201a8\"],[0.3333333333333333,\"#9c179e\"],[0.4444444444444444,\"#bd3786\"],[0.5555555555555556,\"#d8576b\"],[0.6666666666666666,\"#ed7953\"],[0.7777777777777778,\"#fb9f3a\"],[0.8888888888888888,\"#fdca26\"],[1.0,\"#f0f921\"]],\"sequentialminus\":[[0.0,\"#0d0887\"],[0.1111111111111111,\"#46039f\"],[0.2222222222222222,\"#7201a8\"],[0.3333333333333333,\"#9c179e\"],[0.4444444444444444,\"#bd3786\"],[0.5555555555555556,\"#d8576b\"],[0.6666666666666666,\"#ed7953\"],[0.7777777777777778,\"#fb9f3a\"],[0.8888888888888888,\"#fdca26\"],[1.0,\"#f0f921\"]]},\"colorway\":[\"#636efa\",\"#EF553B\",\"#00cc96\",\"#ab63fa\",\"#FFA15A\",\"#19d3f3\",\"#FF6692\",\"#B6E880\",\"#FF97FF\",\"#FECB52\"],\"font\":{\"color\":\"#2a3f5f\"},\"geo\":{\"bgcolor\":\"white\",\"lakecolor\":\"white\",\"landcolor\":\"#E5ECF6\",\"showlakes\":true,\"showland\":true,\"subunitcolor\":\"white\"},\"hoverlabel\":{\"align\":\"left\"},\"hovermode\":\"closest\",\"mapbox\":{\"style\":\"light\"},\"paper_bgcolor\":\"white\",\"plot_bgcolor\":\"#E5ECF6\",\"polar\":{\"angularaxis\":{\"gridcolor\":\"white\",\"linecolor\":\"white\",\"ticks\":\"\"},\"bgcolor\":\"#E5ECF6\",\"radialaxis\":{\"gridcolor\":\"white\",\"linecolor\":\"white\",\"ticks\":\"\"}},\"scene\":{\"xaxis\":{\"backgroundcolor\":\"#E5ECF6\",\"gridcolor\":\"white\",\"gridwidth\":2,\"linecolor\":\"white\",\"showbackground\":true,\"ticks\":\"\",\"zerolinecolor\":\"white\"},\"yaxis\":{\"backgroundcolor\":\"#E5ECF6\",\"gridcolor\":\"white\",\"gridwidth\":2,\"linecolor\":\"white\",\"showbackground\":true,\"ticks\":\"\",\"zerolinecolor\":\"white\"},\"zaxis\":{\"backgroundcolor\":\"#E5ECF6\",\"gridcolor\":\"white\",\"gridwidth\":2,\"linecolor\":\"white\",\"showbackground\":true,\"ticks\":\"\",\"zerolinecolor\":\"white\"}},\"shapedefaults\":{\"line\":{\"color\":\"#2a3f5f\"}},\"ternary\":{\"aaxis\":{\"gridcolor\":\"white\",\"linecolor\":\"white\",\"ticks\":\"\"},\"baxis\":{\"gridcolor\":\"white\",\"linecolor\":\"white\",\"ticks\":\"\"},\"bgcolor\":\"#E5ECF6\",\"caxis\":{\"gridcolor\":\"white\",\"linecolor\":\"white\",\"ticks\":\"\"}},\"title\":{\"x\":0.05},\"xaxis\":{\"automargin\":true,\"gridcolor\":\"white\",\"linecolor\":\"white\",\"ticks\":\"\",\"title\":{\"standoff\":15},\"zerolinecolor\":\"white\",\"zerolinewidth\":2},\"yaxis\":{\"automargin\":true,\"gridcolor\":\"white\",\"linecolor\":\"white\",\"ticks\":\"\",\"title\":{\"standoff\":15},\"zerolinecolor\":\"white\",\"zerolinewidth\":2}}},\"xaxis\":{\"anchor\":\"y\",\"domain\":[0.0,1.0],\"title\":{\"text\":\"Trial\"}},\"yaxis\":{\"anchor\":\"x\",\"domain\":[0.0,1.0],\"title\":{\"text\":\"RT\"}},\"legend\":{\"title\":{\"text\":\"CC\"},\"tracegroupgap\":0},\"margin\":{\"t\":60},\"barmode\":\"group\"},                        {\"responsive\": true}                    ).then(function(){\n",
       "                            \n",
       "var gd = document.getElementById('a14423d3-a3a3-4f50-b68b-5010485af740');\n",
       "var x = new MutationObserver(function (mutations, observer) {{\n",
       "        var display = window.getComputedStyle(gd).display;\n",
       "        if (!display || display === 'none') {{\n",
       "            console.log([gd, 'removed!']);\n",
       "            Plotly.purge(gd);\n",
       "            observer.disconnect();\n",
       "        }}\n",
       "}});\n",
       "\n",
       "// Listen for the removal of the full notebook cells\n",
       "var notebookContainer = gd.closest('#notebook-container');\n",
       "if (notebookContainer) {{\n",
       "    x.observe(notebookContainer, {childList: true});\n",
       "}}\n",
       "\n",
       "// Listen for the clearing of the current output cell\n",
       "var outputEl = gd.closest('.output');\n",
       "if (outputEl) {{\n",
       "    x.observe(outputEl, {childList: true});\n",
       "}}\n",
       "\n",
       "                        })                };                });            </script>        </div>"
      ]
     },
     "metadata": {},
     "output_type": "display_data"
    }
   ],
   "source": [
    "# Congruent Stroop trial with BiasingMult = 0\n",
    "BiasingMult = 0\n",
    "i, Winner, CogCtrl, LingKnow, Stroop = RunTrial((0,0,0,60))\n",
    "RT_CongStroop_NoCC = i\n",
    "print(i, Winner)\n",
    "\n",
    "# Congruent Stroop trial with BiasingMult = 1\n",
    "BiasingMult = 1\n",
    "i, Winner, CogCtrl, LingKnow, Stroop = RunTrial((0,0,0,60))\n",
    "RT_CongStroop_WithCC = i\n",
    "print(i, Winner)\n",
    "\n",
    "# Inongruent Stroop trial with BiasingMult = 0\n",
    "BiasingMult = 0\n",
    "i, Winner, CogCtrl, LingKnow, Stroop = RunTrial((0,0,20,30))\n",
    "RT_IncongStroop_NoCC = i\n",
    "print(i, Winner)\n",
    "\n",
    "# Incongruent Stroop trial with BiasingMult = 1\n",
    "BiasingMult = 1\n",
    "i, Winner, CogCtrl, LingKnow, Stroop = RunTrial((0,0,20,30))\n",
    "RT_IncongStroop_WithCC = i\n",
    "print(i, Winner)\n",
    "\n",
    "df = pd.DataFrame({'CC':['Without CC','With CC','Without CC','With CC'],\n",
    "                   'Trial':['Congruent','Congruent','Incongruent','Incongruent'],\n",
    "                   'RT':[RT_CongStroop_NoCC,RT_CongStroop_WithCC,RT_IncongStroop_NoCC,RT_IncongStroop_WithCC]})\n",
    "\n",
    "# Figure\n",
    "fig = px.bar(df,x='Trial',y='RT',color='CC',barmode=\"group\")\n",
    "fig.show()\n"
   ]
  },
  {
   "cell_type": "markdown",
   "id": "598159e7",
   "metadata": {},
   "source": [
    "Cognitive control makes incongruent Stroop trials faster (and does not affect congruent trials)."
   ]
  },
  {
   "cell_type": "markdown",
   "id": "8364ef57",
   "metadata": {},
   "source": [
    "## In Language"
   ]
  },
  {
   "cell_type": "code",
   "execution_count": null,
   "id": "588f4a26",
   "metadata": {},
   "outputs": [],
   "source": [
    "# Control sentence trial with BiasingMult = 0\n",
    "\n",
    "# control sentence trial with BiasingMult = 0.2\n",
    "\n",
    "# Anomalous sentence trial with BiasingMult = 0\n",
    "\n",
    "# Anomalous sentence trial with BiasingMult = 0.2\n",
    "\n",
    "# Figure"
   ]
  },
  {
   "cell_type": "markdown",
   "id": "cc3a2de4",
   "metadata": {},
   "source": [
    "The same cognitive control system also makes trials with linguistic conflict faster (and does not affect control sentences)."
   ]
  },
  {
   "cell_type": "markdown",
   "id": "d3fa7f97",
   "metadata": {},
   "source": [
    "# Cross-Task Adaptation"
   ]
  },
  {
   "cell_type": "code",
   "execution_count": null,
   "id": "65ed9b8b",
   "metadata": {},
   "outputs": [],
   "source": [
    "# A Congruent Stroop -> Control Sentence sequence\n",
    "\n",
    "# An Inongruent Stroop -> Control Sentence sequence\n",
    "\n",
    "# A Congruent Stroop -> Anomalous Sentence sequence\n",
    "\n",
    "# An Incongruent Stroop -> Anomalous Sentence sequence\n",
    "\n",
    "# Figure"
   ]
  },
  {
   "cell_type": "markdown",
   "id": "bc092985",
   "metadata": {},
   "source": [
    "The engagment of cognitive control in an Incongruent Stroop Trial makes the subsequent Anomalous Sentence trial faster (but does not affect Control Sentences)."
   ]
  },
  {
   "cell_type": "markdown",
   "id": "97a61329",
   "metadata": {},
   "source": [
    "# Possible Additional Figures\n",
    "Activation levels of a node throughout a trial - this information is currently not saved. Needs to be changed if we want that."
   ]
  },
  {
   "cell_type": "code",
   "execution_count": null,
   "id": "2edfdc1d-31fb-4215-bf32-5548ce168a56",
   "metadata": {},
   "outputs": [],
   "source": []
  }
 ],
 "metadata": {
  "kernelspec": {
   "display_name": "Python 3 (ipykernel)",
   "language": "python",
   "name": "python3"
  },
  "language_info": {
   "codemirror_mode": {
    "name": "ipython",
    "version": 3
   },
   "file_extension": ".py",
   "mimetype": "text/x-python",
   "name": "python",
   "nbconvert_exporter": "python",
   "pygments_lexer": "ipython3",
   "version": "3.9.12"
  }
 },
 "nbformat": 4,
 "nbformat_minor": 5
}
